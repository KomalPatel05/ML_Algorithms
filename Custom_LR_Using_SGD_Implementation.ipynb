{
 "cells": [
  {
   "cell_type": "code",
   "execution_count": 1,
   "id": "2ab3e236",
   "metadata": {},
   "outputs": [],
   "source": [
    "import numpy as np\n",
    "import pandas as pd\n",
    "from sklearn.datasets import make_classification\n",
    "from sklearn.model_selection import train_test_split\n",
    "from sklearn.preprocessing import StandardScaler\n",
    "from sklearn import linear_model"
   ]
  },
  {
   "cell_type": "code",
   "execution_count": 2,
   "id": "c043e1b7",
   "metadata": {},
   "outputs": [
    {
     "data": {
      "text/plain": [
       "((50000, 15), (50000,))"
      ]
     },
     "execution_count": 2,
     "metadata": {},
     "output_type": "execute_result"
    }
   ],
   "source": [
    "X, y = make_classification(n_samples=50000, n_features=15, n_informative=10, n_redundant=5,\n",
    "                           n_classes=2, weights=[0.7], class_sep=0.7, random_state=15)\n",
    "# make_classification is used to create custom dataset \n",
    "# Please check this link (https://scikit-learn.org/stable/modules/generated/sklearn.datasets.make_classification.html) for more details\n",
    "\n",
    "X.shape, y.shape"
   ]
  },
  {
   "cell_type": "code",
   "execution_count": 3,
   "id": "7cf73d4b",
   "metadata": {},
   "outputs": [
    {
     "data": {
      "text/plain": [
       "((37500, 15), (37500,), (12500, 15), (12500,))"
      ]
     },
     "execution_count": 3,
     "metadata": {},
     "output_type": "execute_result"
    }
   ],
   "source": [
    "X_train, X_test, y_train, y_test = train_test_split(X, y, test_size=0.25, random_state=15)\n",
    "\n",
    "X_train.shape, y_train.shape, X_test.shape, y_test.shape"
   ]
  },
  {
   "cell_type": "code",
   "execution_count": 4,
   "id": "8a8fcd12",
   "metadata": {},
   "outputs": [],
   "source": [
    "#Initialize weights"
   ]
  },
  {
   "cell_type": "code",
   "execution_count": 5,
   "id": "da65707a",
   "metadata": {},
   "outputs": [],
   "source": [
    "def initialize_weights(row_vector):\n",
    "    ''' In this function, we will initialize our weights and bias'''\n",
    "    #initialize the weights as 1d array consisting of all zeros similar to the dimensions of row_vector\n",
    "    #you use zeros_like function to initialize zero, check this link https://docs.scipy.org/doc/numpy/reference/generated/numpy.zeros_like.html\n",
    "    #initialize bias to zero\n",
    "    return np.zeros_like(row_vector),0#w,b"
   ]
  },
  {
   "cell_type": "code",
   "execution_count": 6,
   "id": "66524e05",
   "metadata": {},
   "outputs": [
    {
     "name": "stdout",
     "output_type": "stream",
     "text": [
      "w = [0. 0. 0. 0. 0. 0. 0. 0. 0. 0. 0. 0. 0. 0. 0.]\n",
      "b = 0\n"
     ]
    }
   ],
   "source": [
    "dim=X_train[0] \n",
    "w,b = initialize_weights(dim)\n",
    "print('w =',(w))\n",
    "print('b =',str(b))"
   ]
  },
  {
   "cell_type": "code",
   "execution_count": 7,
   "id": "cdb3163f",
   "metadata": {},
   "outputs": [],
   "source": [
    "dim=X_train[0] \n",
    "w,b = initialize_weights(dim)\n"
   ]
  },
  {
   "cell_type": "code",
   "execution_count": 8,
   "id": "c05ff7b8",
   "metadata": {},
   "outputs": [],
   "source": [
    "#Compute sigmoid\n",
    "#𝑠𝑖𝑔𝑚𝑜𝑖𝑑(𝑧)=1/(1+𝑒𝑥𝑝(−𝑧))\n",
    "import math\n",
    "def sigmoid(z):\n",
    "    ''' In this function, we will return sigmoid of z'''\n",
    "    # compute sigmoid(z) and return\n",
    "    return 1/(1+math.exp(-z))"
   ]
  },
  {
   "cell_type": "code",
   "execution_count": 9,
   "id": "2b178fe3",
   "metadata": {},
   "outputs": [],
   "source": [
    "#Compute loss\n",
    "#𝑙𝑜𝑔𝑙𝑜𝑠𝑠=−1∗1𝑛Σ𝑓𝑜𝑟𝑒𝑎𝑐ℎ𝑌𝑡,𝑌𝑝𝑟𝑒𝑑(𝑌𝑡𝑙𝑜𝑔10(𝑌𝑝𝑟𝑒𝑑)+(1−𝑌𝑡)𝑙𝑜𝑔10(1−𝑌𝑝𝑟𝑒𝑑))\n",
    "def logloss(y_true,y_pred):\n",
    "    #https://www.pythonlikeyoumeanit.com/Module3_IntroducingNumpy/VectorizedOperations.html\n",
    "    #https://www.geeksforgeeks.org/vectorized-operations-in-numpy/\n",
    "    \n",
    "    loss = (-1)*(1/y_true.size)*np.sum(y_true*np.log10(y_pred)+(1-y_true)*np.log10(1-y_pred))\n",
    "    return loss"
   ]
  },
  {
   "cell_type": "code",
   "execution_count": 10,
   "id": "0a7e0275",
   "metadata": {},
   "outputs": [],
   "source": [
    "#Compute gradient w.r.to 'w'\n",
    "#𝑑𝑤(𝑡)=𝑥𝑛(𝑦𝑛−σ((𝑤(𝑡))𝑇𝑥𝑛+𝑏𝑡))−λ𝑁𝑤(𝑡) \n",
    "#make sure that the sigmoid function returns a scalar value, you can use dot function operation\n",
    "def gradient_dw(x,y,w,b,alpha,N):\n",
    "    '''In this function, we will compute the gardient w.r.to w '''\n",
    "    dw=x*(y-sigmoid(np.dot(w,x)+b))-(alpha/N)*w\n",
    "    return dw"
   ]
  },
  {
   "cell_type": "code",
   "execution_count": 11,
   "id": "9642089b",
   "metadata": {},
   "outputs": [],
   "source": [
    "grad_x=np.array([-2.07864835,  3.31604252, -0.79104357, -3.87045546, -1.14783286,\n",
    "       -2.81434437, -0.86771071, -0.04073287,  0.84827878,  1.99451725,\n",
    "        3.67152472,  0.01451875,  2.01062888,  0.07373904, -5.54586092])\n",
    "grad_y=0\n",
    "grad_w=np.array([ 0.03364887,  0.03612727,  0.02786927,  0.08547455, -0.12870234,\n",
    "       -0.02555288,  0.11858013,  0.13305576,  0.07310204,  0.15149245,\n",
    "       -0.05708987, -0.064768  ,  0.18012332, -0.16880843, -0.27079877])\n",
    "grad_b=0.5\n",
    "alpha=0.0001\n",
    "N=len(X_train)"
   ]
  },
  {
   "cell_type": "code",
   "execution_count": 12,
   "id": "68c2d5ed",
   "metadata": {},
   "outputs": [],
   "source": [
    "#Compute gradient w.r.to 'b'\n",
    "#𝑑𝑏(𝑡)=𝑦𝑛−σ((𝑤(𝑡))𝑇𝑥𝑛+𝑏𝑡)\n",
    "\n",
    "#sb should be a scalar value\n",
    "def gradient_db(x,y,w,b):\n",
    "     '''In this function, we will compute gradient w.r.to b '''\n",
    "     db=y-sigmoid(np.dot(w,x)+b)\n",
    "     return db"
   ]
  },
  {
   "cell_type": "code",
   "execution_count": 13,
   "id": "19bf9415",
   "metadata": {},
   "outputs": [],
   "source": [
    "# prediction function used to compute predicted_y given the dataset X\n",
    "def pred(w,b, X):\n",
    "    N = len(X)\n",
    "    predict = []\n",
    "    for i in range(N):\n",
    "        z=np.dot(w,X[i])+b\n",
    "        predict.append(sigmoid(z))\n",
    "    return np.array(predict)"
   ]
  },
  {
   "cell_type": "code",
   "execution_count": 14,
   "id": "c060c89a",
   "metadata": {},
   "outputs": [],
   "source": [
    "def train(X_train,y_train,X_test,y_test,epochs,alpha,eta0):\n",
    "    ''' In this function, we will implement logistic regression'''\n",
    "    #Here eta0 is learning rate\n",
    "    #implement the code as follows\n",
    "    # initalize the weights (call the initialize_weights(X_train[0]) function)\n",
    "    # for every epoch\n",
    "        # for every data point(X_train,y_train)\n",
    "           #compute gradient w.r.to w (call the gradient_dw() function)\n",
    "           #compute gradient w.r.to b (call the gradient_db() function)\n",
    "           #update w, b\n",
    "        # predict the output of x_train [for all data points in X_train] using pred function with updated weights\n",
    "        #compute the loss between predicted and actual values (call the loss function)\n",
    "        # store all the train loss values in a list\n",
    "        # predict the output of x_test [for all data points in X_test] using pred function with updated weights\n",
    "        #compute the loss between predicted and actual values (call the loss function)\n",
    "        # store all the test loss values in a list\n",
    "        # you can also compare previous loss and current loss, if loss is not updating then stop the process \n",
    "        # you have to return w,b , train_loss and test loss\n",
    "        \n",
    "    train_loss = []\n",
    "    test_loss = []\n",
    "    w,b = initialize_weights(X_train[0]) # Initialize the weights\n",
    "    #write your code to perform SGD\n",
    "    \n",
    "    while(1):\n",
    "        for i in range(y_train.size):\n",
    "            dw=gradient_dw(X_train[i],y_train[i],w,b,alpha,y_train.size)\n",
    "            db=gradient_db(X_train[i],y_train[i],w,b)\n",
    "            w=w+alpha*dw\n",
    "            b=b+alpha*db\n",
    "        y_train_pred=pred(w,b,X_train)\n",
    "        loss_train=logloss(y_train,y_train_pred)\n",
    "        \n",
    "        y_test_pred=pred(w,b,X_test)\n",
    "        loss_test=logloss(y_test,y_test_pred)\n",
    "        \n",
    "        \n",
    "            \n",
    "        train_loss.append(loss_train)\n",
    "        test_loss.append(loss_test)\n",
    "        \n",
    "        if(len(train_loss) > 1 and abs(train_loss[-1]-train_loss[-2])<=0.00001):\n",
    "            break\n",
    "        \n",
    "    return w,b,train_loss,test_loss"
   ]
  },
  {
   "cell_type": "code",
   "execution_count": 15,
   "id": "51f7f75c",
   "metadata": {},
   "outputs": [],
   "source": [
    "alpha=0.001\n",
    "eta0=0.001\n",
    "N=len(X_train)\n",
    "epochs=20\n",
    "w,b,train_loss,test_loss=train(X_train,y_train,X_test,y_test,epochs,alpha,eta0)"
   ]
  },
  {
   "cell_type": "code",
   "execution_count": 16,
   "id": "1c920d82",
   "metadata": {},
   "outputs": [
    {
     "name": "stdout",
     "output_type": "stream",
     "text": [
      "3\n"
     ]
    },
    {
     "data": {
      "image/png": "[encoded data removed]",
      "text/plain": [
       "<Figure size 432x288 with 1 Axes>"
      ]
     },
     "metadata": {
      "needs_background": "light"
     },
     "output_type": "display_data"
    }
   ],
   "source": [
    "import matplotlib.pyplot as plt\n",
    "plt.plot(range(1,len(train_loss)+1), train_loss, label='Train Loss')\n",
    "plt.plot(range(1,len(test_loss)+1), test_loss, label='Test Loss')\n",
    "\n",
    "plt.scatter(range(1,len(train_loss)+1), train_loss, label='Train Loss points')\n",
    "plt.scatter(range(1,len(test_loss)+1), test_loss, label='Test Loss points')\n",
    "print(len(train_loss))\n",
    "plt.legend()\n",
    "plt.xlabel(\"Epocs\")\n",
    "plt.ylabel(\"Train Loss\")\n",
    "plt.title(\"LOSS PLOTS VS EPOCS\")\n",
    "plt.grid()\n",
    "plt.show()"
   ]
  },
  {
   "cell_type": "code",
   "execution_count": 17,
   "id": "f0d8654e",
   "metadata": {},
   "outputs": [
    {
     "name": "stdout",
     "output_type": "stream",
     "text": [
      "0.9466133333333333\n",
      "0.94456\n"
     ]
    }
   ],
   "source": [
    "def predict(w,b,X):\n",
    "    N=len(X)\n",
    "    predict = []\n",
    "    for i in range(N):\n",
    "        if sigmoid(np.dot(X[i],w)+b) >= 0.5:\n",
    "            predict.append(1)\n",
    "        else:\n",
    "            predict.append(0)\n",
    "    return np.array(predict)\n",
    "\n",
    "print(1-np.sum(y_train-predict(w,b,X_train))/len(X_train))\n",
    "print(1-np.sum(y_test-predict(w,b,X_test))/len(X_test))"
   ]
  }
 ],
 "metadata": {
  "kernelspec": {
   "display_name": "Python 3",
   "language": "python",
   "name": "python3"
  },
  "language_info": {
   "codemirror_mode": {
    "name": "ipython",
    "version": 3
   },
   "file_extension": ".py",
   "mimetype": "text/x-python",
   "name": "python",
   "nbconvert_exporter": "python",
   "pygments_lexer": "ipython3",
   "version": "3.8.8"
  }
 },
 "nbformat": 4,
 "nbformat_minor": 5
}
